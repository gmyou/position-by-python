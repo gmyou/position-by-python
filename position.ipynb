{
 "cells": [
  {
   "cell_type": "code",
   "execution_count": 13,
   "metadata": {},
   "outputs": [
    {
     "data": {
      "text/html": [
       "<div>\n",
       "<style scoped>\n",
       "    .dataframe tbody tr th:only-of-type {\n",
       "        vertical-align: middle;\n",
       "    }\n",
       "\n",
       "    .dataframe tbody tr th {\n",
       "        vertical-align: top;\n",
       "    }\n",
       "\n",
       "    .dataframe thead th {\n",
       "        text-align: right;\n",
       "    }\n",
       "</style>\n",
       "<table border=\"1\" class=\"dataframe\">\n",
       "  <thead>\n",
       "    <tr style=\"text-align: right;\">\n",
       "      <th></th>\n",
       "      <th>날짜</th>\n",
       "      <th>순번</th>\n",
       "      <th>이름</th>\n",
       "      <th>포지션</th>\n",
       "    </tr>\n",
       "  </thead>\n",
       "  <tbody>\n",
       "    <tr>\n",
       "      <th>0</th>\n",
       "      <td>2023-10-14</td>\n",
       "      <td>3</td>\n",
       "      <td>유근명</td>\n",
       "      <td>CB</td>\n",
       "    </tr>\n",
       "    <tr>\n",
       "      <th>1</th>\n",
       "      <td>2023-10-14</td>\n",
       "      <td>5</td>\n",
       "      <td>김관규</td>\n",
       "      <td>CB</td>\n",
       "    </tr>\n",
       "    <tr>\n",
       "      <th>2</th>\n",
       "      <td>2023-10-14</td>\n",
       "      <td>29</td>\n",
       "      <td>박찬흥</td>\n",
       "      <td>CB</td>\n",
       "    </tr>\n",
       "    <tr>\n",
       "      <th>3</th>\n",
       "      <td>2023-10-14</td>\n",
       "      <td>8</td>\n",
       "      <td>김영안</td>\n",
       "      <td>CF</td>\n",
       "    </tr>\n",
       "    <tr>\n",
       "      <th>4</th>\n",
       "      <td>2023-10-14</td>\n",
       "      <td>10</td>\n",
       "      <td>최용석</td>\n",
       "      <td>CF</td>\n",
       "    </tr>\n",
       "  </tbody>\n",
       "</table>\n",
       "</div>"
      ],
      "text/plain": [
       "           날짜  순번   이름 포지션\n",
       "0  2023-10-14   3  유근명  CB\n",
       "1  2023-10-14   5  김관규  CB\n",
       "2  2023-10-14  29  박찬흥  CB\n",
       "3  2023-10-14   8  김영안  CF\n",
       "4  2023-10-14  10  최용석  CF"
      ]
     },
     "execution_count": 13,
     "metadata": {},
     "output_type": "execute_result"
    }
   ],
   "source": [
    "import pandas as pd\n",
    "\n",
    "data = pd.read_csv('data/position.csv')\n",
    "data.head()"
   ]
  },
  {
   "cell_type": "code",
   "execution_count": 15,
   "metadata": {},
   "outputs": [],
   "source": [
    "# 이름의 유니크한 값들을 출력\n",
    "data[\"정제된 이름\"] =  data['이름'].str.split('(').str[0]\n",
    "\n",
    "# 공백 제거\n",
    "data[\"정제된 이름\"] = data[\"정제된 이름\"].str.strip()"
   ]
  },
  {
   "cell_type": "code",
   "execution_count": 16,
   "metadata": {},
   "outputs": [
    {
     "data": {
      "text/plain": [
       "array(['유근명', '김관규', '박찬흥', '김영안', '최용석', '정행식', '오승준', '김경림', '조양연',\n",
       "       '정재경', '김정욱', '조용학', '임성배', '이인규', '천석주', '석주', '윤형진', '배제전',\n",
       "       '김국남', '우신우', '신명철', '이정재', '오세경', '홍성욱', '최정욱', '윤형구', '정용준',\n",
       "       '박노봉', '한승엽', '한석', '이준석', '반기현', '안광서', '김현민', '설현중', '김상수',\n",
       "       '정진환', '정재원', '이병규', '이영세', '민서', '김충', '이규현', '임동균', '배재전', '문정호',\n",
       "       '김승현', '최명근', '맹재훈', '김민헌', '지승환', '재훈', '황정현', '김영휘'],\n",
       "      dtype=object)"
      ]
     },
     "execution_count": 16,
     "metadata": {},
     "output_type": "execute_result"
    }
   ],
   "source": [
    "# 이름만 추출하여 정제된 이름 컬럼에 저장\n",
    "data['정제된 이름'] = data['정제된 이름'].str.split(' ').str[0]\n",
    "data['정제된 이름'].unique()\n"
   ]
  },
  {
   "cell_type": "code",
   "execution_count": 27,
   "metadata": {},
   "outputs": [],
   "source": [
    "# 이름별 포지션 갯수\n",
    "# '이름', '포지션', '횟수' 컬럼 DataFrame 생성\n",
    "df = data.groupby(['정제된 이름', '포지션']).size().reset_index(name='횟수')\n",
    "df.to_csv('data/position_count.csv', index=False)\n",
    "\n",
    "\n"
   ]
  },
  {
   "cell_type": "code",
   "execution_count": 28,
   "metadata": {},
   "outputs": [],
   "source": [
    "# pivot_table을 이용하여 이름별 포지션 갯수를 피벗\n",
    "# 행: 정제된 이름, 열: 포지션, 값: 횟수\n",
    "df = pd.read_csv('data/position_count.csv')\n",
    "df = df.pivot_table(index='정제된 이름', columns='포지션', values='횟수', aggfunc='sum')\n",
    "df.to_csv('data/position_pivot.csv')"
   ]
  },
  {
   "cell_type": "code",
   "execution_count": 31,
   "metadata": {},
   "outputs": [
    {
     "data": {
      "text/plain": [
       "포지션\n",
       "CM    11.0\n",
       "Name: 김경림, dtype: float64"
      ]
     },
     "execution_count": 31,
     "metadata": {},
     "output_type": "execute_result"
    }
   ],
   "source": [
    "# 이름을 입력받아 포지션별 횟수를 출력\n",
    "name = input('이름을 입력하세요: ')\n",
    "df.loc[name].sort_values(ascending=False)\n"
   ]
  }
 ],
 "metadata": {
  "kernelspec": {
   "display_name": "position",
   "language": "python",
   "name": "python3"
  },
  "language_info": {
   "codemirror_mode": {
    "name": "ipython",
    "version": 3
   },
   "file_extension": ".py",
   "mimetype": "text/x-python",
   "name": "python",
   "nbconvert_exporter": "python",
   "pygments_lexer": "ipython3",
   "version": "3.9.18"
  }
 },
 "nbformat": 4,
 "nbformat_minor": 2
}
